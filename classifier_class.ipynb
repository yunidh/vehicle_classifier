{
 "cells": [
  {
   "cell_type": "markdown",
   "metadata": {},
   "source": [
    "# Testing modular Vehicle Classifier code\n"
   ]
  },
  {
   "cell_type": "code",
   "execution_count": 1,
   "metadata": {},
   "outputs": [],
   "source": [
    "import torch\n",
    "from torch import nn\n",
    "from torchvision import models\n",
    "\n",
    "import cv2\n",
    "from PIL import Image\n",
    "import os\n",
    "\n",
    "\n",
    "class VehicleClassifier:\n",
    "    def __init__(self, model_path):\n",
    "        self.device = \"cuda\" if torch.cuda.is_available() else \"cpu\"\n",
    "        torch.manual_seed(42)\n",
    "        torch.cuda.manual_seed(42)\n",
    "        _, ext = os.path.splitext(model_path)\n",
    "        if ext.lower() not in [\".pth\", \".pt\"]:\n",
    "            raise ValueError(\n",
    "                \"Invalid model file extension. Only '.pth' and '.pt' files are supported.\"\n",
    "            )\n",
    "\n",
    "        # Instantiate model and transform parameters\n",
    "        weightsv3 = models.MobileNet_V3_Large_Weights.DEFAULT\n",
    "        self.modelv3 = models.mobilenet_v3_large(weights=weightsv3).to(self.device)\n",
    "        self.auto_transform = weightsv3.transforms()\n",
    "        self.class_names = [\"0_no wheeler\", \"1_two wheeler\", \"2_four wheeler\"]\n",
    "\n",
    "        # Freezing the final classifier layer\n",
    "        for param in self.modelv3.features.parameters():\n",
    "            param.requires_grad = False\n",
    "        output_shape = len(self.class_names)\n",
    "\n",
    "        # Recreate the classifier layer and seed it to the target device\n",
    "        self.modelv3.classifier = nn.Sequential(\n",
    "            nn.Linear(\n",
    "                in_features=960,\n",
    "                out_features=1280,\n",
    "                bias=True,\n",
    "            ),\n",
    "            nn.Hardswish(),\n",
    "            nn.Dropout(p=0.2, inplace=True),\n",
    "            nn.Linear(\n",
    "                in_features=1280,\n",
    "                out_features=output_shape,  # same number of output units as our number of classes\n",
    "                bias=True,\n",
    "            ),\n",
    "        ).to(self.device)\n",
    "\n",
    "        self.modelv3.load_state_dict(torch.load(model_path, map_location=self.device))\n",
    "\n",
    "    def load_image(self, image):\n",
    "        image = cv2.cvtColor(image, cv2.COLOR_BGR2RGB)\n",
    "        image = Image.fromarray(image)\n",
    "        image = self.auto_transform(image)\n",
    "        image = torch.Tensor(image)\n",
    "        return image.to(self.device).unsqueeze(0)\n",
    "\n",
    "    def predict(self, image: cv2.imread):\n",
    "        self.modelv3.eval()\n",
    "        image = self.load_image(image)\n",
    "        with torch.inference_mode():\n",
    "            output = self.modelv3(image)\n",
    "            _, predicted = torch.max(output, 1)\n",
    "        return self.class_names[predicted.item()]\n",
    "\n",
    "    def get_auto_transform(self):\n",
    "        return self.auto_transform\n",
    "\n",
    "\n",
    "model_path = \"data/saved_models/modelv3_3OP.pth\"\n",
    "chakap_path = \"data/test_images/1.jpg\"\n",
    "classifier = VehicleClassifier(model_path)"
   ]
  },
  {
   "cell_type": "code",
   "execution_count": 2,
   "metadata": {},
   "outputs": [],
   "source": [
    "cv_image = cv2.imread(\"data/test_images/9.jpg\")"
   ]
  },
  {
   "cell_type": "code",
   "execution_count": 3,
   "metadata": {},
   "outputs": [
    {
     "data": {
      "text/plain": [
       "'1_two wheeler'"
      ]
     },
     "execution_count": 3,
     "metadata": {},
     "output_type": "execute_result"
    }
   ],
   "source": [
    "pred = classifier.predict(cv_image)\n",
    "pred"
   ]
  },
  {
   "cell_type": "markdown",
   "metadata": {},
   "source": [
    "### Successful class for Vehicle Classifier\n",
    "\n",
    "- using this class in Vehicle_classifier.py and importing it to test\n"
   ]
  },
  {
   "cell_type": "code",
   "execution_count": 4,
   "metadata": {},
   "outputs": [],
   "source": [
    "from vehicle_classifier import VehicleClassifier\n",
    "import cv2\n",
    "\n",
    "model_path = \"data/saved_models/modelv3_3OP.pth\"\n",
    "classifier = VehicleClassifier(model_path)"
   ]
  },
  {
   "cell_type": "code",
   "execution_count": 5,
   "metadata": {},
   "outputs": [
    {
     "data": {
      "text/plain": [
       "'0_no wheeler'"
      ]
     },
     "execution_count": 5,
     "metadata": {},
     "output_type": "execute_result"
    }
   ],
   "source": [
    "cv_image = cv2.imread(\"data/test_images/1.jpg\")\n",
    "pred = classifier.predict(cv_image)\n",
    "pred"
   ]
  }
 ],
 "metadata": {
  "kernelspec": {
   "display_name": "Python 3",
   "language": "python",
   "name": "python3"
  },
  "language_info": {
   "codemirror_mode": {
    "name": "ipython",
    "version": 3
   },
   "file_extension": ".py",
   "mimetype": "text/x-python",
   "name": "python",
   "nbconvert_exporter": "python",
   "pygments_lexer": "ipython3",
   "version": "3.12.2"
  }
 },
 "nbformat": 4,
 "nbformat_minor": 2
}
